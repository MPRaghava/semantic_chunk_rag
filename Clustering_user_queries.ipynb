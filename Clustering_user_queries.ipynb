{
  "nbformat": 4,
  "nbformat_minor": 0,
  "metadata": {
    "colab": {
      "provenance": [],
      "authorship_tag": "ABX9TyNfDj56nt+IJbejl8/prJwG",
      "include_colab_link": true
    },
    "kernelspec": {
      "name": "python3",
      "display_name": "Python 3"
    },
    "language_info": {
      "name": "python"
    }
  },
  "cells": [
    {
      "cell_type": "markdown",
      "metadata": {
        "id": "view-in-github",
        "colab_type": "text"
      },
      "source": [
        "<a href=\"https://colab.research.google.com/github/MPRaghava/semantic_chunk_rag/blob/main/Clustering_user_queries.ipynb\" target=\"_parent\"><img src=\"https://colab.research.google.com/assets/colab-badge.svg\" alt=\"Open In Colab\"/></a>"
      ]
    },
    {
      "cell_type": "code",
      "execution_count": 2,
      "metadata": {
        "id": "tUDYfMZpyJbd"
      },
      "outputs": [],
      "source": [
        "from sentence_transformers import SentenceTransformer\n",
        "from sklearn.cluster import KMeans\n",
        "import matplotlib.pyplot as plt\n"
      ]
    },
    {
      "cell_type": "code",
      "source": [
        "sentences =[\n",
        "    \"I can't log into my account\",\n",
        "    \"Login page not working\",\n",
        "    \"Forgot my password, help me\",\n",
        "    \"Payment failed during checkout\",\n",
        "    \"Why was my card declined?\",\n",
        "    \"Unable to complete payment\",\n",
        "    \"When will my order be delivered?\",\n",
        "    \"My parcel hasn't arrived yet\",\n",
        "    \"Order tracking not updating\"\n",
        "]"
      ],
      "metadata": {
        "id": "NYPQGFvsyxDh"
      },
      "execution_count": 3,
      "outputs": []
    },
    {
      "cell_type": "code",
      "source": [
        "model = SentenceTransformer('sentence-transformers/all-MiniLM-L6-v2')\n",
        "embeddings = model.encode(sentences)"
      ],
      "metadata": {
        "id": "0SXNGGqgzJqL"
      },
      "execution_count": 5,
      "outputs": []
    },
    {
      "cell_type": "code",
      "source": [
        "num_clusters = 3\n",
        "kmeans = KMeans (n_clusters=num_clusters, random_state = 42)\n",
        "kmeans.fit(embeddings)\n",
        "labels = kmeans.labels_\n"
      ],
      "metadata": {
        "id": "dIPd1nbrzdb_"
      },
      "execution_count": 6,
      "outputs": []
    },
    {
      "cell_type": "code",
      "source": [
        "clusters = {}\n",
        "for sentence, label in zip(sentences, labels):\n",
        "    clusters.setdefault(label, []).append(sentence)\n",
        "\n",
        "print(\"🧠 Clustered Queries:\")\n",
        "for cluster_id, cluster_sentences in clusters.items():\n",
        "    print(f\"\\n🔹 Cluster {cluster_id + 1}:\")\n",
        "    for sent in cluster_sentences:\n",
        "        print(f\" - {sent}\")"
      ],
      "metadata": {
        "colab": {
          "base_uri": "https://localhost:8080/"
        },
        "id": "y1C4WRabz3lT",
        "outputId": "bb72eab5-7801-4549-ddef-2a0c5407b40f"
      },
      "execution_count": 7,
      "outputs": [
        {
          "output_type": "stream",
          "name": "stdout",
          "text": [
            "🧠 Clustered Queries:\n",
            "\n",
            "🔹 Cluster 3:\n",
            " - I can't log into my account\n",
            " - Login page not working\n",
            " - Forgot my password, help me\n",
            "\n",
            "🔹 Cluster 1:\n",
            " - Payment failed during checkout\n",
            " - Why was my card declined?\n",
            " - Unable to complete payment\n",
            "\n",
            "🔹 Cluster 2:\n",
            " - When will my order be delivered?\n",
            " - My parcel hasn't arrived yet\n",
            " - Order tracking not updating\n"
          ]
        }
      ]
    }
  ]
}